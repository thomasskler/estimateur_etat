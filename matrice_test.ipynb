{
 "cells": [
  {
   "cell_type": "markdown",
   "metadata": {},
   "source": [
    "# Module passerelle Python - Matlab"
   ]
  },
  {
   "cell_type": "markdown",
   "metadata": {},
   "source": [
    "## Introduction"
   ]
  },
  {
   "cell_type": "markdown",
   "metadata": {},
   "source": [
    "L'objectif de ces modules est de pouvoir de façon simple et rapide faire le lien entre Matlab et Python.\n",
    "\n",
    "Dans un premier temps nous allons considérer que les seuls objects à faire transiter sont des matrices et des bases de données (type DataFrame). Matlab a la possibilité d'enregistrer ses variables actives dans des fichiers .mat. Cela permet notamment de pouvoir les recharger plus tard. Il existe en python un package (scipy.io) capable d'enregistrer des données sous ce format. L'objectif est donc d'utiliser ce package pour créer et lire des fichiers .mat pour que cela soit visible par Matlab et inversement, pour que les variables de Matlab soient lisibles en Python.\n",
    "\n",
    "Pour les DataFrame de Python, afin qu'il soient lisibles et exploitables par matlab, ils sont tranformés en matrices et dans une deuxième variable est enregistré les noms des colonnes."
   ]
  },
  {
   "cell_type": "markdown",
   "metadata": {},
   "source": [
    "## 1 - Environnement et définition de fonctions"
   ]
  },
  {
   "cell_type": "markdown",
   "metadata": {},
   "source": [
    "### Import des packages pertinents"
   ]
  },
  {
   "cell_type": "code",
   "execution_count": 1,
   "metadata": {},
   "outputs": [],
   "source": [
    "import numpy as np\n",
    "import pandas as pd\n",
    "import datetime as dt\n",
    "import scipy.io\n",
    "import os"
   ]
  },
  {
   "cell_type": "markdown",
   "metadata": {},
   "source": [
    "### Classe de matrice"
   ]
  },
  {
   "cell_type": "markdown",
   "metadata": {},
   "source": [
    "Cette classe nous permettra dan un premier de faire des tests simples sur des réseaux de petites tailles. La construction des matrices a été optimisée pour le type de matrice que nous allons exploiter: des matrices lacunaires définies positives. "
   ]
  },
  {
   "cell_type": "code",
   "execution_count": 2,
   "metadata": {},
   "outputs": [],
   "source": [
    "class Matrix:\n",
    "    \n",
    "    def __init__(self, n, m=None):\n",
    "        \"\"\"\n",
    "        contruction function\n",
    "        once contructed, the \n",
    "        matrix is full of 0\n",
    "        \"\"\"\n",
    "        if not m:\n",
    "            self._content = np.zeros((n,n))\n",
    "            self._number_lines = n\n",
    "            self._number_columns = n\n",
    "        else:\n",
    "            self._content = np.zeros((n,m))\n",
    "            self._number_lines = n\n",
    "            self._number_columns = m\n",
    "    \n",
    "    @property\n",
    "    def content(self):\n",
    "        \"\"\"\n",
    "        function to show the\n",
    "        contant of the matrix\n",
    "        \"\"\"\n",
    "        return self._content\n",
    "    \n",
    "    @property\n",
    "    def is_square(self):\n",
    "        \"\"\"\n",
    "        function that tells\n",
    "        if the matrix is square \n",
    "        or not\n",
    "        \"\"\"\n",
    "        if self._number_lines != self._number_columns:\n",
    "            return False\n",
    "        else:\n",
    "            return True\n",
    "    \n",
    "    @property\n",
    "    def is_sym(self):\n",
    "        \"\"\"\n",
    "        function that tells if\n",
    "        the matrix is symetric \n",
    "        or not\n",
    "        \"\"\"\n",
    "        if not self.is_square:\n",
    "            raise TypeError(\"This matrix is not square, it cannot use this function\")\n",
    "        for i in range(self._number_lines):\n",
    "            for j in range(i, self._number_lines):\n",
    "                if self.content[i][j] != self.content[j][i]:\n",
    "                    return False\n",
    "        return True\n",
    "    \n",
    "    def complet(self, value, line, column):\n",
    "        \"\"\"\n",
    "        function to add a value in the\n",
    "        matrix at a wanted position\n",
    "        \"\"\"\n",
    "        self._content[line][column] = value\n",
    "    \n",
    "    def sym_complet(self, value, line, column):\n",
    "        \"\"\"\n",
    "        function to add a value in the\n",
    "        matrix at a wanted position\n",
    "        in symetric way\n",
    "        \"\"\"\n",
    "        if not self.is_square:\n",
    "            raise TypeError(\"This matrix is not square, it cannot use this function\")\n",
    "        self.complet(value, line, column)\n",
    "        self.complet(value, column, line)\n",
    "\n",
    "    def diag(self, diag_list):\n",
    "        \"\"\"\n",
    "        function to add a list of value on the \n",
    "        matrix's diagonal\n",
    "        \n",
    "        input:\n",
    "        diag_list: list of value\n",
    "        \"\"\"\n",
    "        k = min(self._number_columns, self._number_lines)\n",
    "        for i, j in enumerate(range(k)):\n",
    "            try:\n",
    "                self.complet(diag_list[j], i, i)\n",
    "            except IndexError:\n",
    "                self.complet(0, i, i)"
   ]
  },
  {
   "cell_type": "markdown",
   "metadata": {},
   "source": [
    "### Fonctions de sauvegarde en fichiers mat"
   ]
  },
  {
   "cell_type": "markdown",
   "metadata": {},
   "source": [
    "Voici un ensemble de deux fonctions pour créer des fichiers .mat à partir de variables d'un environnment python.\n",
    "pour lire des fichiers .met en python on utilisera scipy.io.loadmat"
   ]
  },
  {
   "cell_type": "code",
   "execution_count": 3,
   "metadata": {},
   "outputs": [],
   "source": [
    "def save_variable_as_mat(variable_dict, path=None, single_file=True):\n",
    "    \"\"\"\n",
    "    function to save values in mat files\n",
    "    \n",
    "    input:\n",
    "    variable_dict (Dictionnary): each key is \n",
    "    the name of the variable, each value is \n",
    "    the content of the variable\n",
    "    path (str): path to save the file. If None,\n",
    "    the current dirpath is taken\n",
    "    single_file (Boolean): if true, all the variable\n",
    "    are saved in one file. If not, each variable has its\n",
    "    own file\n",
    "    \"\"\"\n",
    "    cwd = os.getcwd()\n",
    "    if path is not None:\n",
    "        os.chdir(path)\n",
    "    preprocess_factory(variable_dict)\n",
    "    if not single_file:\n",
    "        for k, v in variable_dict.items():\n",
    "            scipy.io.savemat(\n",
    "                \"{}_{}.mat\".format(dt.datetime.now().strftime(\"%Y-%m-%d,%H%M\")),\n",
    "                {k:v}\n",
    "            )\n",
    "    else:\n",
    "        scipy.io.savemat(\n",
    "                \"variable_set_{}.mat\".format(\n",
    "                    dt.datetime.now().strftime(\"%Y-%m-%d,%H%M\")\n",
    "                ),\n",
    "                variable_dict,\n",
    "            )\n",
    "    os.chdir(cwd)"
   ]
  },
  {
   "cell_type": "code",
   "execution_count": 4,
   "metadata": {},
   "outputs": [],
   "source": [
    "def preprocess_factory(variable_dict):\n",
    "    \"\"\"\n",
    "    function that adapt the variable\n",
    "    when their type is not computable \n",
    "    by matlab\n",
    "    \"\"\"\n",
    "    update_dict = {}\n",
    "    for k, v in variable_dict.items():\n",
    "        if isinstance(v, Matrix):\n",
    "            variable_dict[k] = v.content\n",
    "        elif isinstance(v, pd.DataFrame):\n",
    "            df = v.copy()\n",
    "            df.reset_index(inplace=True)\n",
    "            m = list(df.values)\n",
    "            variable_dict[k] = np.array(m)\n",
    "            update_dict[\"%s_columns\" % k] = list(df.columns)\n",
    "    variable_dict.update(update_dict)"
   ]
  },
  {
   "cell_type": "markdown",
   "metadata": {},
   "source": [
    "## 2 - Unit Test"
   ]
  },
  {
   "cell_type": "code",
   "execution_count": 5,
   "metadata": {},
   "outputs": [],
   "source": [
    "AC = Matrix(3,5)"
   ]
  },
  {
   "cell_type": "code",
   "execution_count": 9,
   "metadata": {},
   "outputs": [],
   "source": [
    "AC.complet(-1,0,2)\n",
    "AC.complet(-1,0,3)\n",
    "AC.complet(-1,0,4)\n",
    "AC.complet(-1,1,0)\n",
    "AC.complet(-1,1,1)\n",
    "AC.complet(-1,1,2)\n",
    "\n",
    "\n",
    "\n",
    "\n"
   ]
  },
  {
   "cell_type": "code",
   "execution_count": 10,
   "metadata": {},
   "outputs": [
    {
     "data": {
      "text/plain": [
       "array([[ 0.,  0., -1., -1., -1.],\n",
       "       [-1., -1., -1.,  0.,  0.],\n",
       "       [ 0.,  0.,  0.,  0.,  0.]])"
      ]
     },
     "execution_count": 10,
     "metadata": {},
     "output_type": "execute_result"
    }
   ],
   "source": [
    "AC.content"
   ]
  },
  {
   "cell_type": "code",
   "execution_count": 11,
   "metadata": {},
   "outputs": [],
   "source": [
    "AI = Matrix(3)"
   ]
  },
  {
   "cell_type": "code",
   "execution_count": 13,
   "metadata": {},
   "outputs": [],
   "source": [
    "AI.diag([4,4,2])\n",
    "AI.sym_complet(-1,0,2)\n",
    "AI.sym_complet(-1,1,2)"
   ]
  },
  {
   "cell_type": "code",
   "execution_count": 14,
   "metadata": {},
   "outputs": [
    {
     "data": {
      "text/plain": [
       "array([[ 4.,  0., -1.],\n",
       "       [ 0.,  4., -1.],\n",
       "       [-1., -1.,  2.]])"
      ]
     },
     "execution_count": 14,
     "metadata": {},
     "output_type": "execute_result"
    }
   ],
   "source": [
    "AI.content"
   ]
  },
  {
   "cell_type": "code",
   "execution_count": 15,
   "metadata": {},
   "outputs": [],
   "source": [
    "UC = Matrix(5,1)"
   ]
  },
  {
   "cell_type": "code",
   "execution_count": 18,
   "metadata": {},
   "outputs": [],
   "source": [
    "UC.complet(1,0,0)\n",
    "UC.complet(1,1,0)"
   ]
  },
  {
   "cell_type": "code",
   "execution_count": 19,
   "metadata": {},
   "outputs": [
    {
     "data": {
      "text/plain": [
       "array([[1.],\n",
       "       [1.],\n",
       "       [0.],\n",
       "       [0.],\n",
       "       [0.]])"
      ]
     },
     "execution_count": 19,
     "metadata": {},
     "output_type": "execute_result"
    }
   ],
   "source": [
    "UC.content"
   ]
  },
  {
   "cell_type": "code",
   "execution_count": 20,
   "metadata": {},
   "outputs": [],
   "source": [
    "save_variable_as_mat({\"UC\":UC,\"AC\":AC,\"AI\":AI})"
   ]
  },
  {
   "cell_type": "code",
   "execution_count": 8,
   "metadata": {},
   "outputs": [],
   "source": [
    "M = Matrix(3)\n",
    "diag = [-4,-4,-4]\n",
    "M.complet(2,1,0)\n",
    "M.complet(2,1,2)\n",
    "M.complet(1,0,1)\n",
    "M.complet(1,2,1)\n",
    "M.diag(diag)"
   ]
  },
  {
   "cell_type": "code",
   "execution_count": 9,
   "metadata": {},
   "outputs": [
    {
     "data": {
      "text/plain": [
       "array([[-4.,  1.,  0.],\n",
       "       [ 2., -4.,  2.],\n",
       "       [ 0.,  1., -4.]])"
      ]
     },
     "execution_count": 9,
     "metadata": {},
     "output_type": "execute_result"
    }
   ],
   "source": [
    "M.content"
   ]
  },
  {
   "cell_type": "code",
   "execution_count": 11,
   "metadata": {},
   "outputs": [],
   "source": [
    "save_variable_as_mat({\"M\": M})"
   ]
  },
  {
   "cell_type": "code",
   "execution_count": 5,
   "metadata": {},
   "outputs": [
    {
     "data": {
      "text/plain": [
       "array([[0., 0., 0., 0., 0.],\n",
       "       [0., 0., 0., 0., 0.],\n",
       "       [0., 0., 0., 0., 0.],\n",
       "       [0., 0., 0., 0., 0.],\n",
       "       [0., 0., 0., 0., 0.]])"
      ]
     },
     "execution_count": 5,
     "metadata": {},
     "output_type": "execute_result"
    }
   ],
   "source": [
    "A = Matrix(5)\n",
    "A.content"
   ]
  },
  {
   "cell_type": "code",
   "execution_count": 6,
   "metadata": {},
   "outputs": [
    {
     "name": "stdout",
     "output_type": "stream",
     "text": [
      "A is square: True\n",
      "A is symetric: True\n"
     ]
    },
    {
     "data": {
      "text/plain": [
       "array([[  4.,   0.,   0.,   0.,   0.],\n",
       "       [  0.,   5.,   8.,   0.,   0.],\n",
       "       [  0.,   8., 150.,   0.,   0.],\n",
       "       [  0.,   0.,   0.,   0.,  32.],\n",
       "       [  0.,   0.,   0.,  32.,   0.]])"
      ]
     },
     "execution_count": 6,
     "metadata": {},
     "output_type": "execute_result"
    }
   ],
   "source": [
    "diag_list = [4,5,150]\n",
    "A.diag(diag_list)\n",
    "A.sym_complet(8,1,2)\n",
    "A.sym_complet(32,4,3)\n",
    "print(\"A is square: %s\" % A.is_square)\n",
    "print(\"A is symetric: %s\" % A.is_sym)\n",
    "A.content"
   ]
  },
  {
   "cell_type": "code",
   "execution_count": 7,
   "metadata": {},
   "outputs": [
    {
     "data": {
      "text/html": [
       "<div>\n",
       "<style scoped>\n",
       "    .dataframe tbody tr th:only-of-type {\n",
       "        vertical-align: middle;\n",
       "    }\n",
       "\n",
       "    .dataframe tbody tr th {\n",
       "        vertical-align: top;\n",
       "    }\n",
       "\n",
       "    .dataframe thead th {\n",
       "        text-align: right;\n",
       "    }\n",
       "</style>\n",
       "<table border=\"1\" class=\"dataframe\">\n",
       "  <thead>\n",
       "    <tr style=\"text-align: right;\">\n",
       "      <th></th>\n",
       "      <th>truc</th>\n",
       "      <th>bidule</th>\n",
       "      <th>chouette</th>\n",
       "    </tr>\n",
       "  </thead>\n",
       "  <tbody>\n",
       "    <tr>\n",
       "      <th>1</th>\n",
       "      <td>8</td>\n",
       "      <td>0</td>\n",
       "      <td>213</td>\n",
       "    </tr>\n",
       "    <tr>\n",
       "      <th>2</th>\n",
       "      <td>5</td>\n",
       "      <td>6</td>\n",
       "      <td>8</td>\n",
       "    </tr>\n",
       "    <tr>\n",
       "      <th>3</th>\n",
       "      <td>64</td>\n",
       "      <td>6</td>\n",
       "      <td>845321</td>\n",
       "    </tr>\n",
       "    <tr>\n",
       "      <th>4</th>\n",
       "      <td>78</td>\n",
       "      <td>654</td>\n",
       "      <td>31</td>\n",
       "    </tr>\n",
       "    <tr>\n",
       "      <th>5</th>\n",
       "      <td>9784</td>\n",
       "      <td>65478</td>\n",
       "      <td>78</td>\n",
       "    </tr>\n",
       "  </tbody>\n",
       "</table>\n",
       "</div>"
      ],
      "text/plain": [
       "   truc  bidule  chouette\n",
       "1     8       0       213\n",
       "2     5       6         8\n",
       "3    64       6    845321\n",
       "4    78     654        31\n",
       "5  9784   65478        78"
      ]
     },
     "execution_count": 7,
     "metadata": {},
     "output_type": "execute_result"
    }
   ],
   "source": [
    "df = pd.read_csv(\"Classeur1.csv\", sep=\";\", index_col=0)\n",
    "df"
   ]
  },
  {
   "cell_type": "code",
   "execution_count": 8,
   "metadata": {},
   "outputs": [],
   "source": [
    "save_variable_as_mat({\"A\":A, \"df\":df}, single_file=True)"
   ]
  },
  {
   "cell_type": "markdown",
   "metadata": {},
   "source": [
    "# TEST"
   ]
  },
  {
   "cell_type": "code",
   "execution_count": 9,
   "metadata": {},
   "outputs": [],
   "source": [
    "A = Matrix(2000)\n",
    "diag = [1/i for i in range(1,2001)]"
   ]
  },
  {
   "cell_type": "code",
   "execution_count": 10,
   "metadata": {},
   "outputs": [],
   "source": [
    "A.diag(diag)"
   ]
  },
  {
   "cell_type": "code",
   "execution_count": 11,
   "metadata": {},
   "outputs": [],
   "source": [
    "Points = {\n",
    "    1: {\"value\":10, \"line\": 4, \"column\": 5},\n",
    "    2: {\"value\":8, \"line\": 3, \"column\": 5},\n",
    "    3: {\"value\":2.5, \"line\": 15, \"column\": 18},\n",
    "    4: {\"value\":8, \"line\": 14, \"column\": 1},\n",
    "    5: {\"value\":4, \"line\": 19, \"column\": 6},\n",
    "    6: {\"value\":1, \"line\": 4, \"column\": 9},\n",
    "\n",
    "} "
   ]
  },
  {
   "cell_type": "code",
   "execution_count": 12,
   "metadata": {},
   "outputs": [],
   "source": [
    "for k in range(100000):\n",
    "    value = np.random.randint(1,999)\n",
    "    line = np.random.randint(0,1999)\n",
    "    column = np.random.randint(0,1999)\n",
    "    A.sym_complet(value, line, column)"
   ]
  },
  {
   "cell_type": "code",
   "execution_count": 19,
   "metadata": {},
   "outputs": [
    {
     "data": {
      "text/plain": [
       "array([[1.00000000e+00, 0.00000000e+00, 0.00000000e+00, ...,\n",
       "        0.00000000e+00, 0.00000000e+00, 0.00000000e+00],\n",
       "       [0.00000000e+00, 5.00000000e-01, 0.00000000e+00, ...,\n",
       "        0.00000000e+00, 0.00000000e+00, 0.00000000e+00],\n",
       "       [0.00000000e+00, 0.00000000e+00, 3.33333333e-01, ...,\n",
       "        0.00000000e+00, 0.00000000e+00, 0.00000000e+00],\n",
       "       ...,\n",
       "       [0.00000000e+00, 0.00000000e+00, 0.00000000e+00, ...,\n",
       "        5.00500501e-04, 0.00000000e+00, 0.00000000e+00],\n",
       "       [0.00000000e+00, 0.00000000e+00, 0.00000000e+00, ...,\n",
       "        0.00000000e+00, 5.00250125e-04, 0.00000000e+00],\n",
       "       [0.00000000e+00, 0.00000000e+00, 0.00000000e+00, ...,\n",
       "        0.00000000e+00, 0.00000000e+00, 5.00000000e-04]])"
      ]
     },
     "execution_count": 19,
     "metadata": {},
     "output_type": "execute_result"
    }
   ],
   "source": [
    "A.content"
   ]
  },
  {
   "cell_type": "code",
   "execution_count": 22,
   "metadata": {},
   "outputs": [
    {
     "data": {
      "text/plain": [
       "1.0"
      ]
     },
     "execution_count": 22,
     "metadata": {},
     "output_type": "execute_result"
    }
   ],
   "source": [
    "A.content[0][0]\n"
   ]
  },
  {
   "cell_type": "code",
   "execution_count": 23,
   "metadata": {},
   "outputs": [],
   "source": [
    "df  = pd.read_excel(\"z choix electif init 2 (1).xlsx\", sep=';')"
   ]
  },
  {
   "cell_type": "code",
   "execution_count": 29,
   "metadata": {},
   "outputs": [
    {
     "data": {
      "text/plain": [
       "Index(['Unnamed: 0', 'Prénom', 'Nom', 'Choix 1.', 'Choix 2.', 'Choix 3.',\n",
       "       'Choix 4.', 'Choix 5.'],\n",
       "      dtype='object')"
      ]
     },
     "execution_count": 29,
     "metadata": {},
     "output_type": "execute_result"
    }
   ],
   "source": [
    "df.columns"
   ]
  },
  {
   "cell_type": "code",
   "execution_count": 32,
   "metadata": {},
   "outputs": [
    {
     "data": {
      "text/plain": [
       "Choix 1.        2 énerg bât\n",
       "Choix 2.           5 PCERTI\n",
       "Choix 3.         3 T P Elec\n",
       "Choix 4.    1 enj enrg biom\n",
       "Choix 5.         6 PaC & H2\n",
       "Name: 2, dtype: object"
      ]
     },
     "execution_count": 32,
     "metadata": {},
     "output_type": "execute_result"
    }
   ],
   "source": [
    "df.iloc[2][['Choix 1.', 'Choix 2.', 'Choix 3.','Choix 4.', 'Choix 5.']]"
   ]
  },
  {
   "cell_type": "code",
   "execution_count": 55,
   "metadata": {},
   "outputs": [
    {
     "data": {
      "text/plain": [
       "array(['2 éco rés éner', '6 smart grids', '7 tr entr sect sg', '5 PCERTI',\n",
       "       '1 enj enrg biom'], dtype=object)"
      ]
     },
     "execution_count": 55,
     "metadata": {},
     "output_type": "execute_result"
    }
   ],
   "source": [
    "i = 12\n",
    "df.iloc[i][['Choix 1.', 'Choix 2.', 'Choix 3.','Choix 4.', 'Choix 5.']].values"
   ]
  },
  {
   "cell_type": "code",
   "execution_count": 47,
   "metadata": {},
   "outputs": [
    {
     "ename": "TypeError",
     "evalue": "sequence item 4: expected str instance, float found",
     "output_type": "error",
     "traceback": [
      "\u001b[1;31m---------------------------------------------------------------------------\u001b[0m",
      "\u001b[1;31mTypeError\u001b[0m                                 Traceback (most recent call last)",
      "\u001b[1;32m<ipython-input-47-ac317c924a11>\u001b[0m in \u001b[0;36m<module>\u001b[1;34m()\u001b[0m\n\u001b[1;32m----> 1\u001b[1;33m \u001b[0mlist\u001b[0m \u001b[1;33m=\u001b[0m \u001b[1;33m[\u001b[0m\u001b[1;34m\"__\"\u001b[0m\u001b[1;33m.\u001b[0m\u001b[0mjoin\u001b[0m\u001b[1;33m(\u001b[0m\u001b[0mdf\u001b[0m\u001b[1;33m.\u001b[0m\u001b[0miloc\u001b[0m\u001b[1;33m[\u001b[0m\u001b[0mi\u001b[0m\u001b[1;33m]\u001b[0m\u001b[1;33m[\u001b[0m\u001b[1;33m[\u001b[0m\u001b[1;34m'Choix 1.'\u001b[0m\u001b[1;33m,\u001b[0m \u001b[1;34m'Choix 2.'\u001b[0m\u001b[1;33m,\u001b[0m \u001b[1;34m'Choix 3.'\u001b[0m\u001b[1;33m,\u001b[0m\u001b[1;34m'Choix 4.'\u001b[0m\u001b[1;33m,\u001b[0m \u001b[1;34m'Choix 5.'\u001b[0m\u001b[1;33m]\u001b[0m\u001b[1;33m]\u001b[0m\u001b[1;33m.\u001b[0m\u001b[0mvalues\u001b[0m\u001b[1;33m)\u001b[0m \u001b[1;32mfor\u001b[0m \u001b[0mi\u001b[0m \u001b[1;32min\u001b[0m \u001b[0mdf\u001b[0m\u001b[1;33m.\u001b[0m\u001b[0mindex\u001b[0m\u001b[1;33m]\u001b[0m\u001b[1;33m\u001b[0m\u001b[0m\n\u001b[0m",
      "\u001b[1;32m<ipython-input-47-ac317c924a11>\u001b[0m in \u001b[0;36m<listcomp>\u001b[1;34m(.0)\u001b[0m\n\u001b[1;32m----> 1\u001b[1;33m \u001b[0mlist\u001b[0m \u001b[1;33m=\u001b[0m \u001b[1;33m[\u001b[0m\u001b[1;34m\"__\"\u001b[0m\u001b[1;33m.\u001b[0m\u001b[0mjoin\u001b[0m\u001b[1;33m(\u001b[0m\u001b[0mdf\u001b[0m\u001b[1;33m.\u001b[0m\u001b[0miloc\u001b[0m\u001b[1;33m[\u001b[0m\u001b[0mi\u001b[0m\u001b[1;33m]\u001b[0m\u001b[1;33m[\u001b[0m\u001b[1;33m[\u001b[0m\u001b[1;34m'Choix 1.'\u001b[0m\u001b[1;33m,\u001b[0m \u001b[1;34m'Choix 2.'\u001b[0m\u001b[1;33m,\u001b[0m \u001b[1;34m'Choix 3.'\u001b[0m\u001b[1;33m,\u001b[0m\u001b[1;34m'Choix 4.'\u001b[0m\u001b[1;33m,\u001b[0m \u001b[1;34m'Choix 5.'\u001b[0m\u001b[1;33m]\u001b[0m\u001b[1;33m]\u001b[0m\u001b[1;33m.\u001b[0m\u001b[0mvalues\u001b[0m\u001b[1;33m)\u001b[0m \u001b[1;32mfor\u001b[0m \u001b[0mi\u001b[0m \u001b[1;32min\u001b[0m \u001b[0mdf\u001b[0m\u001b[1;33m.\u001b[0m\u001b[0mindex\u001b[0m\u001b[1;33m]\u001b[0m\u001b[1;33m\u001b[0m\u001b[0m\n\u001b[0m",
      "\u001b[1;31mTypeError\u001b[0m: sequence item 4: expected str instance, float found"
     ]
    }
   ],
   "source": [
    "list = [\"__\".join(df.iloc[i][['Choix 1.', 'Choix 2.', 'Choix 3.','Choix 4.', 'Choix 5.']].values) for i in df.index]"
   ]
  },
  {
   "cell_type": "code",
   "execution_count": 14,
   "metadata": {},
   "outputs": [
    {
     "data": {
      "text/plain": [
       "0.0"
      ]
     },
     "execution_count": 14,
     "metadata": {},
     "output_type": "execute_result"
    }
   ],
   "source": [
    "A.content[15][18]"
   ]
  },
  {
   "cell_type": "code",
   "execution_count": 15,
   "metadata": {},
   "outputs": [],
   "source": [
    "b = Matrix(2000,1)"
   ]
  },
  {
   "cell_type": "code",
   "execution_count": 16,
   "metadata": {},
   "outputs": [],
   "source": [
    "for i in range(20):\n",
    "    b.complet(5/(i+1), i,0)"
   ]
  },
  {
   "cell_type": "code",
   "execution_count": 17,
   "metadata": {},
   "outputs": [
    {
     "data": {
      "text/plain": [
       "array([[5.        ],\n",
       "       [2.5       ],\n",
       "       [1.66666667],\n",
       "       ...,\n",
       "       [0.        ],\n",
       "       [0.        ],\n",
       "       [0.        ]])"
      ]
     },
     "execution_count": 17,
     "metadata": {},
     "output_type": "execute_result"
    }
   ],
   "source": [
    "b.content"
   ]
  },
  {
   "cell_type": "code",
   "execution_count": 18,
   "metadata": {},
   "outputs": [],
   "source": [
    "save_variable_as_mat({\"A_test\":A, \"b\":b}, single_file=True)"
   ]
  },
  {
   "cell_type": "code",
   "execution_count": null,
   "metadata": {},
   "outputs": [],
   "source": []
  }
 ],
 "metadata": {
  "kernelspec": {
   "display_name": "Python 3",
   "language": "python",
   "name": "python3"
  },
  "language_info": {
   "codemirror_mode": {
    "name": "ipython",
    "version": 3
   },
   "file_extension": ".py",
   "mimetype": "text/x-python",
   "name": "python",
   "nbconvert_exporter": "python",
   "pygments_lexer": "ipython3",
   "version": "3.6.5"
  }
 },
 "nbformat": 4,
 "nbformat_minor": 2
}
